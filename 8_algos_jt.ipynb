{
 "cells": [
  {
   "cell_type": "code",
   "execution_count": 1,
   "metadata": {
    "id": "d3ewTpz9HUvS"
   },
   "outputs": [],
   "source": [
    "\n",
    "\n",
    "def write_binary(num):\n",
    "    \"\"\"   Write a recursive function called write_binary that accepts an integer as a parameter and prints its binary\n",
    "    representation. For example, write_binary(44) should print 101100.\n",
    "\n",
    "    Args:\n",
    "        num: integer\n",
    "\n",
    "    Returns: integer, binary representation\n",
    "\n",
    "    \"\"\"\n",
    "    if num == 0:\n",
    "        return 0\n",
    "    else:\n",
    "        return num % 2 + 10 * write_binary(int(num // 2))\n",
    "\n",
    "\n",
    "def is_reverse(string_1, string_2):\n",
    "    \"\"\"\n",
    "\n",
    "    Args:\n",
    "        str1: string 1\n",
    "        str2: string 2\n",
    "\n",
    "    Returns: True if str1 is the reverse of str2.\n",
    "\n",
    "    \"\"\"\n",
    "    if len(string_1) == 0 and len(string_2) == 0:\n",
    "        return True\n",
    "    elif len(string_1) == len(string_2):\n",
    "        first_letter_string_1 = string_1[0].lower()\n",
    "        last_letter_string_2 = string_2[len(string_2) - 1].lower()\n",
    "        if first_letter_string_1 == last_letter_string_2:\n",
    "            string_1_without_first_letter = string_1[1:]\n",
    "            string_2_without_last_letter = string_2[0:len(string_2) - 1]\n",
    "            return is_reverse(string_1_without_first_letter, string_2_without_last_letter)\n",
    "        else:\n",
    "            return False\n",
    "    return False\n",
    "\n",
    "\n",
    "def even_digits(numbers):\n",
    "    \"\"\"\n",
    "\n",
    "    Args:\n",
    "        numbers: int\n",
    "\n",
    "    Returns: even digits\n",
    "\n",
    "    \"\"\"\n",
    "    numbers = abs(numbers)\n",
    "    if numbers == 0:\n",
    "        return 0\n",
    "    last_digit = numbers % 10\n",
    "    numbers_without_last_digit = numbers // 10\n",
    "    if last_digit % 2 == 0:\n",
    "        return last_digit + 10 * even_digits(numbers_without_last_digit)\n",
    "    else:\n",
    "        return even_digits(numbers_without_last_digit)\n",
    "\n",
    "\n",
    "def main():\n",
    "    print(write_binary(4))\n",
    "    print(is_reverse('abCd', 'dcBA'))\n",
    "    print(even_digits(-123498))\n",
    "\n"
   ]
  },
  {
   "cell_type": "code",
   "execution_count": 2,
   "metadata": {
    "colab": {
     "base_uri": "https://localhost:8080/",
     "height": 0
    },
    "id": "8lIMInjNHYVA",
    "outputId": "e79969cc-e4dc-4260-c712-9652594ad2e2"
   },
   "outputs": [
    {
     "name": "stdout",
     "output_type": "stream",
     "text": [
      "100\n",
      "True\n",
      "248\n"
     ]
    }
   ],
   "source": [
    "if __name__ == '__main__':\n",
    "    main()"
   ]
  }
 ],
 "metadata": {
  "colab": {
   "collapsed_sections": [],
   "name": "homework-8_jt_04-06-2022.ipynb",
   "provenance": []
  },
  "kernelspec": {
   "display_name": "Python 3 (ipykernel)",
   "language": "python",
   "name": "python3"
  },
  "language_info": {
   "codemirror_mode": {
    "name": "ipython",
    "version": 3
   },
   "file_extension": ".py",
   "mimetype": "text/x-python",
   "name": "python",
   "nbconvert_exporter": "python",
   "pygments_lexer": "ipython3",
   "version": "3.9.7"
  },
  "toc": {
   "base_numbering": 1,
   "nav_menu": {},
   "number_sections": true,
   "sideBar": true,
   "skip_h1_title": false,
   "title_cell": "Table of Contents",
   "title_sidebar": "Contents",
   "toc_cell": false,
   "toc_position": {},
   "toc_section_display": true,
   "toc_window_display": false
  }
 },
 "nbformat": 4,
 "nbformat_minor": 1
}
