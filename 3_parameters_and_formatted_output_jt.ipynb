{
  "nbformat": 4,
  "nbformat_minor": 0,
  "metadata": {
    "colab": {
      "name": "3_parameters-and-formatted-output_jt_02_08_2022",
      "provenance": [],
      "collapsed_sections": []
    },
    "kernelspec": {
      "name": "python3",
      "display_name": "Python 3"
    },
    "language_info": {
      "name": "python"
    }
  },
  "cells": [
    {
      "cell_type": "code",
      "execution_count": 13,
      "metadata": {
        "id": "IWWWB08i3_RG"
      },
      "outputs": [],
      "source": [
        "def last_digit(integer):\n",
        "    last_integer = integer % 10\n",
        "    print('The last digit is', last_integer)\n",
        "    return last_integer\n",
        "\n",
        "\n",
        "def annual_profit():\n",
        "    total_sales = float(input(\"Enter your Total Sales: \"))\n",
        "    annual_profit = 0.25 * total_sales\n",
        "    print(\"The profit that will be made is: $\", annual_profit)\n",
        "    return annual_profit\n",
        "\n",
        "\n",
        "def how_many_cookies():\n",
        "    number_cookies = float(input(\"How many cookies do you want to make?: \"))\n",
        "    sugar_cups = number_cookies * 2 / 50\n",
        "    butter_cups = number_cookies * 3 / 50\n",
        "    flours_cups = number_cookies * 5.5 / 50\n",
        "    print('You need {} ounces of sugar, {} ounces of butter and {} ounces '\n",
        "    'of flours.'.format(sugar_cups,butter_cups,flours_cups))\n",
        "\n",
        "\n",
        "def print_powers_of_n(base, exponent):\n",
        "    for exp in range(exponent + 1):\n",
        "        print(base ** exp, end=' ')\n",
        "    print()"
      ]
    },
    {
      "cell_type": "code",
      "source": [
        "if __name__ == '__main__':\n",
        "    last_digit(234324212129)\n",
        "    annual_profit()\n",
        "    how_many_cookies()\n",
        "    print_powers_of_n(4, 3)\n",
        "    print_powers_of_n(5, 6)\n",
        "    print_powers_of_n(-2, 8)"
      ],
      "metadata": {
        "id": "o1W7C10s4Bld",
        "outputId": "c096e6d7-f619-4eaa-aac8-976ecdb2a6e7",
        "colab": {
          "base_uri": "https://localhost:8080/",
          "height": 0
        }
      },
      "execution_count": 14,
      "outputs": [
        {
          "output_type": "stream",
          "name": "stdout",
          "text": [
            "The last digit is 9\n",
            "Enter your Total Sales: 100\n",
            "The profit that will be made is: $ 25.0\n",
            "How many cookies do you want to make?: 200\n",
            "You need 8.0 ounces of sugar, 12.0 ounces of butter and 22.0 ounces of flours.\n",
            "1 4 16 64 \n",
            "1 5 25 125 625 3125 15625 \n",
            "1 -2 4 -8 16 -32 64 -128 256 \n"
          ]
        }
      ]
    }
  ]
}