{
  "cells": [
    {
      "cell_type": "markdown",
      "id": "5841427e",
      "metadata": {
        "id": "5841427e"
      },
      "source": [
        "Tool to compare: https://text-compare.com/"
      ]
    },
    {
      "cell_type": "markdown",
      "id": "b138eb15",
      "metadata": {
        "id": "b138eb15"
      },
      "source": [
        "There was an old woman who swallowed a fly.\n",
        "I don't know why she swallowed that fly,\n",
        "Perhaps she'll die.\n",
        "\n",
        "There was an old woman who swallowed a spider,\n",
        "That wriggled and iggled and jiggled inside her.\n",
        "She swallowed the spider to catch the fly,\n",
        "I don't know why she swallowed that fly,\n",
        "Perhaps she'll die.\n",
        "\n",
        "There was an old woman who swallowed a bird,\n",
        "How absurd to swallow a bird.\n",
        "She swallowed the bird to catch the spider,\n",
        "She swallowed the spider to catch the fly,\n",
        "I don't know why she swallowed that fly,\n",
        "Perhaps she'll die.\n",
        "\n",
        "There was an old woman who swallowed a cat,\n",
        "Imagine that to swallow a cat.\n",
        "She swallowed the cat to catch the bird,\n",
        "She swallowed the bird to catch the spider,\n",
        "She swallowed the spider to catch the fly,\n",
        "I don't know why she swallowed that fly,\n",
        "Perhaps she'll die.\n",
        "\n",
        "There was an old woman who swallowed a dog,\n",
        "What a hog to swallow a dog.\n",
        "She swallowed the dog to catch the cat,\n",
        "She swallowed the cat to catch the bird,\n",
        "She swallowed the bird to catch the spider,\n",
        "She swallowed the spider to catch the fly,\n",
        "I don't know why she swallowed that fly,\n",
        "Perhaps she'll die.\n",
        "\n",
        "There was an old woman who swallowed a horse,\n",
        "She died of course."
      ]
    },
    {
      "cell_type": "code",
      "execution_count": null,
      "id": "8bd2a73e",
      "metadata": {
        "id": "8bd2a73e"
      },
      "outputs": [],
      "source": [
        "def she(animal_1, animal_2):\n",
        "    print(\"She swallowed the \" + animal_1 + \" to catch the \" + animal_2 + \",\")\n",
        "\n",
        "\n",
        "def i_dont(animal):\n",
        "    print(\"I don't know why she swallowed that \" + animal + \",\")\n",
        "\n",
        "\n",
        "def i_dont_perhaps_pattern():\n",
        "    i_dont(\"fly\")\n",
        "    print(\"Perhaps she'll die.\\n\")\n",
        "\n",
        "\n",
        "def she_i_dont_perhaps_pattern():\n",
        "    she(\"spider\", \"fly\")\n",
        "    i_dont_perhaps_pattern()\n",
        "\n",
        "\n",
        "def she_cat_bird_pattern():\n",
        "    she(\"cat\", \"bird\")\n",
        "    she(\"bird\", \"spider\")\n",
        "\n",
        "\n",
        "def she_cat_bird_pattern_and_she_i_dont_perhaps_pattern():\n",
        "    she_cat_bird_pattern()\n",
        "    she_i_dont_perhaps_pattern()\n",
        "\n",
        "\n",
        "def there(animal):\n",
        "    print(\"There was an old woman who swallowed a \" + animal + \",\")\n",
        "\n",
        "\n",
        "def first_paragraph():\n",
        "    print(\"There was an old woman who swallowed a fly.\")\n",
        "    i_dont_perhaps_pattern()\n",
        "\n",
        "\n",
        "def second_paragraph():\n",
        "    there(\"spider\")\n",
        "    print(\"That wriggled and iggled and jiggled inside her.\")\n",
        "    she_i_dont_perhaps_pattern()\n",
        "\n",
        "\n",
        "def third_paragraph():\n",
        "    there(\"bird\")\n",
        "    print(\"How absurd to swallow a bird.\")\n",
        "    she(\"bird\", \"spider\")\n",
        "    she_i_dont_perhaps_pattern()\n",
        "\n",
        "\n",
        "def fourth_paragraph():\n",
        "    there(\"cat\")\n",
        "    print(\"Imagine that to swallow a cat.\")\n",
        "    she_cat_bird_pattern_and_she_i_dont_perhaps_pattern()\n",
        "\n",
        "\n",
        "def fifth_paragraph():\n",
        "    there(\"dog\")\n",
        "    print(\"What a hog to swallow a dog.\")\n",
        "    she(\"dog\", \"cat\")\n",
        "    she_cat_bird_pattern_and_she_i_dont_perhaps_pattern()\n",
        "\n",
        "\n",
        "def sixth_paragraph():\n",
        "    there(\"horse\")\n",
        "    print(\"She died of course.\")\n",
        "\n",
        "\n",
        "def main():\n",
        "    first_paragraph()\n",
        "    second_paragraph()\n",
        "    third_paragraph()\n",
        "    fourth_paragraph()\n",
        "    fifth_paragraph()\n",
        "    sixth_paragraph()"
      ]
    },
    {
      "cell_type": "code",
      "execution_count": null,
      "id": "da6e5860",
      "metadata": {
        "id": "da6e5860",
        "outputId": "a454ae04-c70e-40be-ae56-ce82d311d838"
      },
      "outputs": [
        {
          "name": "stdout",
          "output_type": "stream",
          "text": [
            "There was an old woman who swallowed a fly.\n",
            "I don't know why she swallowed that fly,\n",
            "Perhaps she'll die.\n",
            "\n",
            "There was an old woman who swallowed a spider,\n",
            "That wriggled and iggled and jiggled inside her.\n",
            "She swallowed the spider to catch the fly,\n",
            "I don't know why she swallowed that fly,\n",
            "Perhaps she'll die.\n",
            "\n",
            "There was an old woman who swallowed a bird,\n",
            "How absurd to swallow a bird.\n",
            "She swallowed the bird to catch the spider,\n",
            "She swallowed the spider to catch the fly,\n",
            "I don't know why she swallowed that fly,\n",
            "Perhaps she'll die.\n",
            "\n",
            "There was an old woman who swallowed a cat,\n",
            "Imagine that to swallow a cat.\n",
            "She swallowed the cat to catch the bird,\n",
            "She swallowed the bird to catch the spider,\n",
            "She swallowed the spider to catch the fly,\n",
            "I don't know why she swallowed that fly,\n",
            "Perhaps she'll die.\n",
            "\n",
            "There was an old woman who swallowed a dog,\n",
            "What a hog to swallow a dog.\n",
            "She swallowed the dog to catch the cat,\n",
            "She swallowed the cat to catch the bird,\n",
            "She swallowed the bird to catch the spider,\n",
            "She swallowed the spider to catch the fly,\n",
            "I don't know why she swallowed that fly,\n",
            "Perhaps she'll die.\n",
            "\n",
            "There was an old woman who swallowed a horse,\n",
            "She died of course.\n"
          ]
        }
      ],
      "source": [
        "if __name__ == \"__main__\":\n",
        "    main()"
      ]
    }
  ],
  "metadata": {
    "kernelspec": {
      "display_name": "Python 3 (ipykernel)",
      "language": "python",
      "name": "python3"
    },
    "language_info": {
      "codemirror_mode": {
        "name": "ipython",
        "version": 3
      },
      "file_extension": ".py",
      "mimetype": "text/x-python",
      "name": "python",
      "nbconvert_exporter": "python",
      "pygments_lexer": "ipython3",
      "version": "3.9.7"
    },
    "latex_envs": {
      "LaTeX_envs_menu_present": true,
      "autoclose": false,
      "autocomplete": true,
      "bibliofile": "biblio.bib",
      "cite_by": "apalike",
      "current_citInitial": 1,
      "eqLabelWithNumbers": true,
      "eqNumInitial": 1,
      "hotkeys": {
        "equation": "Ctrl-E",
        "itemize": "Ctrl-I"
      },
      "labels_anchors": false,
      "latex_user_defs": false,
      "report_style_numbering": false,
      "user_envs_cfg": false
    },
    "toc": {
      "base_numbering": 1,
      "nav_menu": {},
      "number_sections": true,
      "sideBar": true,
      "skip_h1_title": false,
      "title_cell": "Table of Contents",
      "title_sidebar": "Contents",
      "toc_cell": false,
      "toc_position": {},
      "toc_section_display": true,
      "toc_window_display": true
    },
    "colab": {
      "name": "1_introduction_to_python_jt_2022-01-20_v1.ipynb",
      "provenance": []
    }
  },
  "nbformat": 4,
  "nbformat_minor": 5
}